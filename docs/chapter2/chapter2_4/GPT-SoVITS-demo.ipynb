{
 "cells": [
  {
   "cell_type": "code",
   "execution_count": 1,
   "id": "d8a7e494-1301-414f-9f4d-6f3240d59514",
   "metadata": {
    "execution": {
     "iopub.execute_input": "2024-03-16T03:44:14.591050Z",
     "iopub.status.busy": "2024-03-16T03:44:14.590754Z",
     "iopub.status.idle": "2024-03-16T03:44:17.747197Z",
     "shell.execute_reply": "2024-03-16T03:44:17.746686Z",
     "shell.execute_reply.started": "2024-03-16T03:44:14.591031Z"
    },
    "tags": []
   },
   "outputs": [
    {
     "name": "stdout",
     "output_type": "stream",
     "text": [
      "正克隆到 'GPT-SoVITS'...\n",
      "remote: Enumerating objects: 2535, done.\u001b[K\n",
      "remote: Counting objects: 100% (1220/1220), done.\u001b[K\n",
      "remote: Compressing objects: 100% (394/394), done.\u001b[K\n",
      "remote: Total 2535 (delta 1001), reused 908 (delta 824), pack-reused 1315\u001b[K\n",
      "接收对象中: 100% (2535/2535), 4.14 MiB | 2.98 MiB/s, 完成.\n",
      "处理 delta 中: 100% (1419/1419), 完成.\n"
     ]
    }
   ],
   "source": [
    "!git clone https://github.com/RVC-Boss/GPT-SoVITS"
   ]
  },
  {
   "cell_type": "code",
   "execution_count": 2,
   "id": "c9c23f1c-7d27-4e06-8825-c8d540c239a7",
   "metadata": {
    "execution": {
     "iopub.execute_input": "2024-03-16T03:44:44.799388Z",
     "iopub.status.busy": "2024-03-16T03:44:44.798828Z",
     "iopub.status.idle": "2024-03-16T03:44:44.803684Z",
     "shell.execute_reply": "2024-03-16T03:44:44.803129Z",
     "shell.execute_reply.started": "2024-03-16T03:44:44.799343Z"
    },
    "tags": []
   },
   "outputs": [
    {
     "name": "stdout",
     "output_type": "stream",
     "text": [
      "/mnt/workspace/GPT-SoVITS\n"
     ]
    }
   ],
   "source": [
    "%cd GPT-SoVITS"
   ]
  },
  {
   "cell_type": "code",
   "execution_count": 5,
   "id": "0232ee19-146b-4c02-b6a3-1538d6f36325",
   "metadata": {
    "ExecutionIndicator": {
     "show": true
    },
    "execution": {
     "iopub.execute_input": "2024-03-16T03:47:33.207377Z",
     "iopub.status.busy": "2024-03-16T03:47:33.207028Z",
     "iopub.status.idle": "2024-03-16T03:47:33.694020Z",
     "shell.execute_reply": "2024-03-16T03:47:33.693455Z",
     "shell.execute_reply.started": "2024-03-16T03:47:33.207344Z"
    },
    "tags": []
   },
   "outputs": [],
   "source": [
    "!mkdir -p /mnt/workspace/GPT-SoVITS/GPT_SoVITS/pretrained_models\n",
    "!mkdir -p /mnt/workspace/GPT-SoVITS/tools/damo_asr/models\n",
    "!mkdir -p /mnt/workspace/GPT-SoVITS/tools/uvr5"
   ]
  },
  {
   "cell_type": "code",
   "execution_count": 6,
   "id": "59633d31-8f2c-43b4-a024-591773cccc05",
   "metadata": {
    "ExecutionIndicator": {
     "show": false
    },
    "execution": {
     "iopub.execute_input": "2024-03-16T04:15:03.517134Z",
     "iopub.status.busy": "2024-03-16T04:15:03.516841Z",
     "iopub.status.idle": "2024-03-16T04:16:13.729700Z",
     "shell.execute_reply": "2024-03-16T04:16:13.729092Z",
     "shell.execute_reply.started": "2024-03-16T04:15:03.517116Z"
    },
    "tags": []
   },
   "outputs": [
    {
     "name": "stdout",
     "output_type": "stream",
     "text": [
      "/mnt/workspace/GPT-SoVITS/GPT_SoVITS/pretrained_models\n",
      "正克隆到 'GPT-SoVITS'...\n",
      "remote: Enumerating objects: 26, done.\u001b[K\n",
      "remote: Counting objects: 100% (26/26), done.\u001b[K\n",
      "remote: Compressing objects: 100% (24/24), done.\u001b[K\n",
      "remote: Total 26 (delta 4), reused 0 (delta 0), pack-reused 0\u001b[K\n",
      "接收对象中: 100% (26/26), 101.39 KiB | 1.13 MiB/s, 完成.\n",
      "处理 delta 中: 100% (4/4), 完成.\n",
      "过滤内容: 100% (5/5), 1.11 GiB | 222.77 MiB/s, 完成.\n",
      "/mnt/workspace/GPT-SoVITS/tools/damo_asr/models\n",
      "正克隆到 'speech_paraformer-large_asr_nat-zh-cn-16k-common-vocab8404-pytorch'...\n",
      "remote: Enumerating objects: 465, done.\u001b[K\n",
      "remote: Counting objects: 100% (67/67), done.\u001b[K\n",
      "remote: Compressing objects: 100% (37/37), done.\u001b[K\n",
      "remote: Total 465 (delta 38), reused 57 (delta 30), pack-reused 398\u001b[K\n",
      "接收对象中: 100% (465/465), 1.12 GiB | 25.52 MiB/s, 完成.\n",
      "处理 delta 中: 100% (268/268), 完成.\n",
      "正克隆到 'speech_fsmn_vad_zh-cn-16k-common-pytorch'...\n",
      "remote: Enumerating objects: 183, done.\u001b[K\n",
      "remote: Counting objects: 100% (38/38), done.\u001b[K\n",
      "remote: Compressing objects: 100% (28/28), done.\u001b[K\n",
      "remote: Total 183 (delta 18), reused 23 (delta 10), pack-reused 145\u001b[K\n",
      "接收对象中: 100% (183/183), 4.66 MiB | 33.83 MiB/s, 完成.\n",
      "处理 delta 中: 100% (91/91), 完成.\n",
      "正克隆到 'punc_ct-transformer_zh-cn-common-vocab272727-pytorch'...\n",
      "remote: Enumerating objects: 170, done.\u001b[K\n",
      "remote: Counting objects: 100% (50/50), done.\u001b[K\n",
      "remote: Compressing objects: 100% (36/36), done.\u001b[K\n",
      "remote: Total 170 (delta 25), reused 30 (delta 14), pack-reused 120\u001b[K\n",
      "接收对象中: 100% (170/170), 257.56 MiB | 66.48 MiB/s, 完成.\n",
      "处理 delta 中: 100% (86/86), 完成.\n",
      "/mnt/workspace/GPT-SoVITS/tools/uvr5\n",
      "fatal: 目标路径 'uvr5_weights' 已经存在，并且不是一个空目录。\n"
     ]
    }
   ],
   "source": [
    "%cd /mnt/workspace/GPT-SoVITS/GPT_SoVITS/pretrained_models\n",
    "!git clone https://www.modelscope.cn/AI-ModelScope/GPT-SoVITS.git\n",
    "%cd /mnt/workspace/GPT-SoVITS/tools/damo_asr/models\n",
    "!git clone https://www.modelscope.cn/damo/speech_paraformer-large_asr_nat-zh-cn-16k-common-vocab8404-pytorch.git\n",
    "!git clone https://www.modelscope.cn/damo/speech_fsmn_vad_zh-cn-16k-common-pytorch.git\n",
    "!git clone https://www.modelscope.cn/damo/punc_ct-transformer_zh-cn-common-vocab272727-pytorch.git\n",
    "%cd /mnt/workspace/GPT-SoVITS/tools/uvr5\n",
    "!rm -rf /mnt/workspace/GPT-SoVITS/tools/uvr5/uvr5_weights\n",
    "!git clone https://www.modelscope.cn/AI-ModelScope/uvr5_weights.git\n",
    "!git config core.sparseCheckout true\n",
    "!mv /mnt/workspace/GPT-SoVITS/GPT_SoVITS/pretrained_models/GPT-SoVITS/* /mnt/workspace/GPT-SoVITS/GPT_SoVITS/pretrained_models/"
   ]
  },
  {
   "cell_type": "code",
   "execution_count": null,
   "id": "f7bdebea-294c-4c31-9b0f-fcaa8837fea9",
   "metadata": {
    "tags": []
   },
   "outputs": [],
   "source": [
    "!pip install ipykernel\n",
    "!sed -i '10s/False/True/' /mnt/workspace/GPT-SoVITS/config.py\n",
    "%cd /mnt/workspace/GPT-SoVITS/"
   ]
  },
  {
   "cell_type": "code",
   "execution_count": 11,
   "id": "182908e6-c73c-4088-a26e-c42a952f16b6",
   "metadata": {
    "ExecutionIndicator": {
     "show": true
    },
    "execution": {
     "iopub.execute_input": "2024-03-16T04:20:08.656695Z",
     "iopub.status.busy": "2024-03-16T04:20:08.656387Z",
     "iopub.status.idle": "2024-03-16T04:20:14.263421Z",
     "shell.execute_reply": "2024-03-16T04:20:14.262895Z",
     "shell.execute_reply.started": "2024-03-16T04:20:08.656677Z"
    },
    "tags": []
   },
   "outputs": [
    {
     "name": "stdout",
     "output_type": "stream",
     "text": [
      "Looking in indexes: https://mirrors.aliyun.com/pypi/simple\n",
      "Collecting gradio==3.38.0\n",
      "  Downloading https://mirrors.aliyun.com/pypi/packages/63/89/179c569c8f979cf1a3a77fb4b7d9b894abf2ce1ab186d5f51b3e3d735fd5/gradio-3.38.0-py3-none-any.whl (19.8 MB)\n",
      "\u001b[2K     \u001b[90m━━━━━━━━━━━━━━━━━━━━━━━━━━━━━━━━━━━━━━━━\u001b[0m \u001b[32m19.8/19.8 MB\u001b[0m \u001b[31m78.7 MB/s\u001b[0m eta \u001b[36m0:00:00\u001b[0m00:01\u001b[0m00:01\u001b[0m\n",
      "\u001b[?25hRequirement already satisfied: aiofiles<24.0,>=22.0 in /opt/conda/lib/python3.10/site-packages (from gradio==3.38.0) (23.2.1)\n",
      "Requirement already satisfied: aiohttp~=3.0 in /opt/conda/lib/python3.10/site-packages (from gradio==3.38.0) (3.9.3)\n",
      "Requirement already satisfied: altair<6.0,>=4.2.0 in /opt/conda/lib/python3.10/site-packages (from gradio==3.38.0) (5.2.0)\n",
      "Requirement already satisfied: fastapi in /opt/conda/lib/python3.10/site-packages (from gradio==3.38.0) (0.109.0)\n",
      "Requirement already satisfied: ffmpy in /opt/conda/lib/python3.10/site-packages (from gradio==3.38.0) (0.3.2)\n",
      "Requirement already satisfied: gradio-client>=0.2.10 in /opt/conda/lib/python3.10/site-packages (from gradio==3.38.0) (0.12.0)\n",
      "Requirement already satisfied: httpx in /opt/conda/lib/python3.10/site-packages (from gradio==3.38.0) (0.27.0)\n",
      "Requirement already satisfied: huggingface-hub>=0.14.0 in /opt/conda/lib/python3.10/site-packages (from gradio==3.38.0) (0.20.3)\n",
      "Requirement already satisfied: jinja2<4.0 in /opt/conda/lib/python3.10/site-packages (from gradio==3.38.0) (3.1.2)\n",
      "Requirement already satisfied: markdown-it-py>=2.0.0 in /opt/conda/lib/python3.10/site-packages (from markdown-it-py[linkify]>=2.0.0->gradio==3.38.0) (3.0.0)\n",
      "Requirement already satisfied: markupsafe~=2.0 in /opt/conda/lib/python3.10/site-packages (from gradio==3.38.0) (2.1.3)\n",
      "Requirement already satisfied: matplotlib~=3.0 in /opt/conda/lib/python3.10/site-packages (from gradio==3.38.0) (3.5.3)\n",
      "Collecting mdit-py-plugins<=0.3.3 (from gradio==3.38.0)\n",
      "  Downloading https://mirrors.aliyun.com/pypi/packages/33/eb/c358112e8265f827cf8228eda36cf2a720ad933f5ca66f47f808edf4bb34/mdit_py_plugins-0.3.3-py3-none-any.whl (50 kB)\n",
      "\u001b[2K     \u001b[90m━━━━━━━━━━━━━━━━━━━━━━━━━━━━━━━━━━━━━━━━\u001b[0m \u001b[32m50.5/50.5 kB\u001b[0m \u001b[31m19.7 MB/s\u001b[0m eta \u001b[36m0:00:00\u001b[0m\n",
      "\u001b[?25hRequirement already satisfied: numpy~=1.0 in /opt/conda/lib/python3.10/site-packages (from gradio==3.38.0) (1.26.3)\n",
      "Requirement already satisfied: orjson~=3.0 in /opt/conda/lib/python3.10/site-packages (from gradio==3.38.0) (3.9.12)\n",
      "Requirement already satisfied: packaging in /opt/conda/lib/python3.10/site-packages (from gradio==3.38.0) (23.1)\n",
      "Requirement already satisfied: pandas<3.0,>=1.0 in /opt/conda/lib/python3.10/site-packages (from gradio==3.38.0) (2.2.0)\n",
      "Requirement already satisfied: pillow<11.0,>=8.0 in /opt/conda/lib/python3.10/site-packages (from gradio==3.38.0) (10.2.0)\n",
      "Requirement already satisfied: pydantic!=1.8,!=1.8.1,!=2.0.0,!=2.0.1,<3.0.0,>=1.7.4 in /opt/conda/lib/python3.10/site-packages (from gradio==3.38.0) (2.5.3)\n",
      "Requirement already satisfied: pydub in /opt/conda/lib/python3.10/site-packages (from gradio==3.38.0) (0.25.1)\n",
      "Requirement already satisfied: python-multipart in /opt/conda/lib/python3.10/site-packages (from gradio==3.38.0) (0.0.9)\n",
      "Requirement already satisfied: pyyaml<7.0,>=5.0 in /opt/conda/lib/python3.10/site-packages (from gradio==3.38.0) (6.0.1)\n",
      "Requirement already satisfied: requests~=2.0 in /opt/conda/lib/python3.10/site-packages (from gradio==3.38.0) (2.31.0)\n",
      "Requirement already satisfied: semantic-version~=2.0 in /opt/conda/lib/python3.10/site-packages (from gradio==3.38.0) (2.10.0)\n",
      "Requirement already satisfied: typing-extensions~=4.0 in /opt/conda/lib/python3.10/site-packages (from gradio==3.38.0) (4.9.0)\n",
      "Requirement already satisfied: uvicorn>=0.14.0 in /opt/conda/lib/python3.10/site-packages (from gradio==3.38.0) (0.27.0.post1)\n",
      "Requirement already satisfied: websockets<12.0,>=10.0 in /opt/conda/lib/python3.10/site-packages (from gradio==3.38.0) (11.0.3)\n",
      "Requirement already satisfied: aiosignal>=1.1.2 in /opt/conda/lib/python3.10/site-packages (from aiohttp~=3.0->gradio==3.38.0) (1.3.1)\n",
      "Requirement already satisfied: attrs>=17.3.0 in /opt/conda/lib/python3.10/site-packages (from aiohttp~=3.0->gradio==3.38.0) (23.2.0)\n",
      "Requirement already satisfied: frozenlist>=1.1.1 in /opt/conda/lib/python3.10/site-packages (from aiohttp~=3.0->gradio==3.38.0) (1.4.1)\n",
      "Requirement already satisfied: multidict<7.0,>=4.5 in /opt/conda/lib/python3.10/site-packages (from aiohttp~=3.0->gradio==3.38.0) (6.0.4)\n",
      "Requirement already satisfied: yarl<2.0,>=1.0 in /opt/conda/lib/python3.10/site-packages (from aiohttp~=3.0->gradio==3.38.0) (1.9.4)\n",
      "Requirement already satisfied: async-timeout<5.0,>=4.0 in /opt/conda/lib/python3.10/site-packages (from aiohttp~=3.0->gradio==3.38.0) (4.0.3)\n",
      "Requirement already satisfied: jsonschema>=3.0 in /opt/conda/lib/python3.10/site-packages (from altair<6.0,>=4.2.0->gradio==3.38.0) (4.21.1)\n",
      "Requirement already satisfied: toolz in /opt/conda/lib/python3.10/site-packages (from altair<6.0,>=4.2.0->gradio==3.38.0) (0.12.1)\n",
      "Requirement already satisfied: fsspec in /opt/conda/lib/python3.10/site-packages (from gradio-client>=0.2.10->gradio==3.38.0) (2023.10.0)\n",
      "Requirement already satisfied: anyio in /opt/conda/lib/python3.10/site-packages (from httpx->gradio==3.38.0) (4.2.0)\n",
      "Requirement already satisfied: certifi in /opt/conda/lib/python3.10/site-packages (from httpx->gradio==3.38.0) (2023.11.17)\n",
      "Requirement already satisfied: httpcore==1.* in /opt/conda/lib/python3.10/site-packages (from httpx->gradio==3.38.0) (1.0.4)\n",
      "Requirement already satisfied: idna in /opt/conda/lib/python3.10/site-packages (from httpx->gradio==3.38.0) (3.4)\n",
      "Requirement already satisfied: sniffio in /opt/conda/lib/python3.10/site-packages (from httpx->gradio==3.38.0) (1.3.0)\n",
      "Requirement already satisfied: h11<0.15,>=0.13 in /opt/conda/lib/python3.10/site-packages (from httpcore==1.*->httpx->gradio==3.38.0) (0.14.0)\n",
      "Requirement already satisfied: filelock in /opt/conda/lib/python3.10/site-packages (from huggingface-hub>=0.14.0->gradio==3.38.0) (3.13.1)\n",
      "Requirement already satisfied: tqdm>=4.42.1 in /opt/conda/lib/python3.10/site-packages (from huggingface-hub>=0.14.0->gradio==3.38.0) (4.65.0)\n",
      "Requirement already satisfied: mdurl~=0.1 in /opt/conda/lib/python3.10/site-packages (from markdown-it-py>=2.0.0->markdown-it-py[linkify]>=2.0.0->gradio==3.38.0) (0.1.2)\n",
      "Collecting linkify-it-py<3,>=1 (from markdown-it-py[linkify]>=2.0.0->gradio==3.38.0)\n",
      "  Downloading https://mirrors.aliyun.com/pypi/packages/04/1e/b832de447dee8b582cac175871d2f6c3d5077cc56d5575cadba1fd1cccfa/linkify_it_py-2.0.3-py3-none-any.whl (19 kB)\n",
      "Requirement already satisfied: cycler>=0.10 in /opt/conda/lib/python3.10/site-packages (from matplotlib~=3.0->gradio==3.38.0) (0.12.1)\n",
      "Requirement already satisfied: fonttools>=4.22.0 in /opt/conda/lib/python3.10/site-packages (from matplotlib~=3.0->gradio==3.38.0) (4.47.0)\n",
      "Requirement already satisfied: kiwisolver>=1.0.1 in /opt/conda/lib/python3.10/site-packages (from matplotlib~=3.0->gradio==3.38.0) (1.4.5)\n",
      "Requirement already satisfied: pyparsing>=2.2.1 in /opt/conda/lib/python3.10/site-packages (from matplotlib~=3.0->gradio==3.38.0) (3.1.1)\n",
      "Requirement already satisfied: python-dateutil>=2.7 in /opt/conda/lib/python3.10/site-packages (from matplotlib~=3.0->gradio==3.38.0) (2.8.2)\n",
      "INFO: pip is looking at multiple versions of mdit-py-plugins to determine which version is compatible with other requirements. This could take a while.\n",
      "Collecting mdit-py-plugins<=0.3.3 (from gradio==3.38.0)\n",
      "  Downloading https://mirrors.aliyun.com/pypi/packages/e4/92/268849737427f7f9a128d2586e561a7dfac723c02f3aaaaef4d27dd6829c/mdit_py_plugins-0.3.2-py3-none-any.whl (50 kB)\n",
      "\u001b[2K     \u001b[90m━━━━━━━━━━━━━━━━━━━━━━━━━━━━━━━━━━━━━━━━\u001b[0m \u001b[32m50.4/50.4 kB\u001b[0m \u001b[31m19.1 MB/s\u001b[0m eta \u001b[36m0:00:00\u001b[0m\n",
      "\u001b[?25h  Downloading https://mirrors.aliyun.com/pypi/packages/de/d9/20870f611989b8dcfd2395eddefdd4b1983d6c36513cce7fbbe9eb345768/mdit_py_plugins-0.3.1-py3-none-any.whl (46 kB)\n",
      "\u001b[2K     \u001b[90m━━━━━━━━━━━━━━━━━━━━━━━━━━━━━━━━━━━━━━━━\u001b[0m \u001b[32m46.5/46.5 kB\u001b[0m \u001b[31m17.7 MB/s\u001b[0m eta \u001b[36m0:00:00\u001b[0m\n",
      "\u001b[?25h  Downloading https://mirrors.aliyun.com/pypi/packages/5b/c4/1cf60e11b55197fa2e5e8d2f732a229690f5a08b018ae1cf4c00585ca834/mdit_py_plugins-0.3.0-py3-none-any.whl (43 kB)\n",
      "\u001b[2K     \u001b[90m━━━━━━━━━━━━━━━━━━━━━━━━━━━━━━━━━━━━━━━━\u001b[0m \u001b[32m43.7/43.7 kB\u001b[0m \u001b[31m16.0 MB/s\u001b[0m eta \u001b[36m0:00:00\u001b[0m\n",
      "\u001b[?25h  Downloading https://mirrors.aliyun.com/pypi/packages/c0/cb/782222da2cc3d543aee662c33cbaf611ec010146ca21c91d5743e8d99603/mdit_py_plugins-0.2.8-py3-none-any.whl (41 kB)\n",
      "\u001b[2K     \u001b[90m━━━━━━━━━━━━━━━━━━━━━━━━━━━━━━━━━━━━━━━━\u001b[0m \u001b[32m41.0/41.0 kB\u001b[0m \u001b[31m14.9 MB/s\u001b[0m eta \u001b[36m0:00:00\u001b[0m\n",
      "\u001b[?25h  Downloading https://mirrors.aliyun.com/pypi/packages/58/04/d5538523c5aae983c6057e6feba23dccb1da39d022264d7dacac1bfc4cd6/mdit_py_plugins-0.2.7-py3-none-any.whl (41 kB)\n",
      "\u001b[2K     \u001b[90m━━━━━━━━━━━━━━━━━━━━━━━━━━━━━━━━━━━━━━━━\u001b[0m \u001b[32m41.0/41.0 kB\u001b[0m \u001b[31m15.1 MB/s\u001b[0m eta \u001b[36m0:00:00\u001b[0m\n",
      "\u001b[?25h  Downloading https://mirrors.aliyun.com/pypi/packages/0c/31/f0ecaccf7cd2db17332a94852f190840167c3cb7eadf09efe498412f909a/mdit_py_plugins-0.2.6-py3-none-any.whl (39 kB)\n",
      "  Downloading https://mirrors.aliyun.com/pypi/packages/66/62/fae9ee5766a7153d571ad732ef514c552efeaa31735fd60e6d9bc07fa9e4/mdit_py_plugins-0.2.5-py3-none-any.whl (39 kB)\n",
      "INFO: pip is still looking at multiple versions of mdit-py-plugins to determine which version is compatible with other requirements. This could take a while.\n",
      "  Downloading https://mirrors.aliyun.com/pypi/packages/9d/df/16e87ebd0bb9d946d3b2d39c1171398f7f71eef5d9ca85adb94131b8c7b5/mdit_py_plugins-0.2.4-py3-none-any.whl (39 kB)\n",
      "  Downloading https://mirrors.aliyun.com/pypi/packages/97/23/3e017136aefe61b442fee2869fcc7756c814e3cfe551f225e1e085f27217/mdit_py_plugins-0.2.3-py3-none-any.whl (39 kB)\n",
      "  Downloading https://mirrors.aliyun.com/pypi/packages/40/fe/0f06e8545ac0578741342cc00305b8d955863b72755af0c3771f339099fb/mdit_py_plugins-0.2.2-py3-none-any.whl (39 kB)\n",
      "  Downloading https://mirrors.aliyun.com/pypi/packages/64/f2/b477dfb13e6d3db6421cf61cd7b76562f16141e81cb174d837dda519253b/mdit_py_plugins-0.2.1-py3-none-any.whl (38 kB)\n",
      "  Downloading https://mirrors.aliyun.com/pypi/packages/5b/78/e3b8c43edce725d01021d5b2947dc6d425ee5201cece4bc3d6a757720151/mdit_py_plugins-0.2.0-py3-none-any.whl (38 kB)\n",
      "INFO: This is taking longer than usual. You might need to provide the dependency resolver with stricter constraints to reduce runtime. See https://pip.pypa.io/warnings/backtracking for guidance. If you want to abort this run, press Ctrl + C.\n",
      "  Downloading https://mirrors.aliyun.com/pypi/packages/00/02/280276967a2328199700b5e16bf427c4b4af1c54fdd6a00623ef93ed25c2/mdit_py_plugins-0.1.0-py3-none-any.whl (37 kB)\n",
      "Collecting markdown-it-py[linkify]>=2.0.0 (from gradio==3.38.0)\n",
      "  Downloading https://mirrors.aliyun.com/pypi/packages/42/d7/1ec15b46af6af88f19b8e5ffea08fa375d433c998b8a7639e76935c14f1f/markdown_it_py-3.0.0-py3-none-any.whl (87 kB)\n",
      "\u001b[2K     \u001b[90m━━━━━━━━━━━━━━━━━━━━━━━━━━━━━━━━━━━━━━━━\u001b[0m \u001b[32m87.5/87.5 kB\u001b[0m \u001b[31m31.6 MB/s\u001b[0m eta \u001b[36m0:00:00\u001b[0m\n",
      "\u001b[?25h  Downloading https://mirrors.aliyun.com/pypi/packages/bf/25/2d88e8feee8e055d015343f9b86e370a1ccbec546f2865c98397aaef24af/markdown_it_py-2.2.0-py3-none-any.whl (84 kB)\n",
      "\u001b[2K     \u001b[90m━━━━━━━━━━━━━━━━━━━━━━━━━━━━━━━━━━━━━━━━\u001b[0m \u001b[32m84.5/84.5 kB\u001b[0m \u001b[31m31.2 MB/s\u001b[0m eta \u001b[36m0:00:00\u001b[0m\n",
      "\u001b[?25hRequirement already satisfied: pytz>=2020.1 in /opt/conda/lib/python3.10/site-packages (from pandas<3.0,>=1.0->gradio==3.38.0) (2023.4)\n",
      "Requirement already satisfied: tzdata>=2022.7 in /opt/conda/lib/python3.10/site-packages (from pandas<3.0,>=1.0->gradio==3.38.0) (2023.4)\n",
      "Requirement already satisfied: annotated-types>=0.4.0 in /opt/conda/lib/python3.10/site-packages (from pydantic!=1.8,!=1.8.1,!=2.0.0,!=2.0.1,<3.0.0,>=1.7.4->gradio==3.38.0) (0.6.0)\n",
      "Requirement already satisfied: pydantic-core==2.14.6 in /opt/conda/lib/python3.10/site-packages (from pydantic!=1.8,!=1.8.1,!=2.0.0,!=2.0.1,<3.0.0,>=1.7.4->gradio==3.38.0) (2.14.6)\n",
      "Requirement already satisfied: charset-normalizer<4,>=2 in /opt/conda/lib/python3.10/site-packages (from requests~=2.0->gradio==3.38.0) (2.0.4)\n",
      "Requirement already satisfied: urllib3<3,>=1.21.1 in /opt/conda/lib/python3.10/site-packages (from requests~=2.0->gradio==3.38.0) (1.26.16)\n",
      "Requirement already satisfied: click>=7.0 in /opt/conda/lib/python3.10/site-packages (from uvicorn>=0.14.0->gradio==3.38.0) (8.1.7)\n",
      "Requirement already satisfied: starlette<0.36.0,>=0.35.0 in /opt/conda/lib/python3.10/site-packages (from fastapi->gradio==3.38.0) (0.35.1)\n",
      "Requirement already satisfied: jsonschema-specifications>=2023.03.6 in /opt/conda/lib/python3.10/site-packages (from jsonschema>=3.0->altair<6.0,>=4.2.0->gradio==3.38.0) (2023.12.1)\n",
      "Requirement already satisfied: referencing>=0.28.4 in /opt/conda/lib/python3.10/site-packages (from jsonschema>=3.0->altair<6.0,>=4.2.0->gradio==3.38.0) (0.33.0)\n",
      "Requirement already satisfied: rpds-py>=0.7.1 in /opt/conda/lib/python3.10/site-packages (from jsonschema>=3.0->altair<6.0,>=4.2.0->gradio==3.38.0) (0.17.1)\n",
      "Collecting uc-micro-py (from linkify-it-py<3,>=1->markdown-it-py[linkify]>=2.0.0->gradio==3.38.0)\n",
      "  Downloading https://mirrors.aliyun.com/pypi/packages/37/87/1f677586e8ac487e29672e4b17455758fce261de06a0d086167bb760361a/uc_micro_py-1.0.3-py3-none-any.whl (6.2 kB)\n",
      "Requirement already satisfied: six>=1.5 in /opt/conda/lib/python3.10/site-packages (from python-dateutil>=2.7->matplotlib~=3.0->gradio==3.38.0) (1.16.0)\n",
      "Requirement already satisfied: exceptiongroup>=1.0.2 in /opt/conda/lib/python3.10/site-packages (from anyio->httpx->gradio==3.38.0) (1.2.0)\n",
      "\u001b[33mDEPRECATION: pytorch-lightning 1.7.7 has a non-standard dependency specifier torch>=1.9.*. pip 24.0 will enforce this behaviour change. A possible replacement is to upgrade to a newer version of pytorch-lightning or contact the author to suggest that they release a version with a conforming dependency specifiers. Discussion can be found at https://github.com/pypa/pip/issues/12063\u001b[0m\u001b[33m\n",
      "\u001b[0mInstalling collected packages: uc-micro-py, markdown-it-py, mdit-py-plugins, linkify-it-py, gradio\n",
      "  Attempting uninstall: markdown-it-py\n",
      "    Found existing installation: markdown-it-py 3.0.0\n",
      "    Uninstalling markdown-it-py-3.0.0:\n",
      "      Successfully uninstalled markdown-it-py-3.0.0\n",
      "  Attempting uninstall: gradio\n",
      "    Found existing installation: gradio 4.21.0\n",
      "    Uninstalling gradio-4.21.0:\n",
      "      Successfully uninstalled gradio-4.21.0\n",
      "Successfully installed gradio-3.38.0 linkify-it-py-2.0.3 markdown-it-py-2.2.0 mdit-py-plugins-0.3.3 uc-micro-py-1.0.3\n",
      "\u001b[33mWARNING: Running pip as the 'root' user can result in broken permissions and conflicting behaviour with the system package manager. It is recommended to use a virtual environment instead: https://pip.pypa.io/warnings/venv\u001b[0m\u001b[33m\n",
      "\u001b[0m\n",
      "\u001b[1m[\u001b[0m\u001b[34;49mnotice\u001b[0m\u001b[1;39;49m]\u001b[0m\u001b[39;49m A new release of pip is available: \u001b[0m\u001b[31;49m23.3.2\u001b[0m\u001b[39;49m -> \u001b[0m\u001b[32;49m24.0\u001b[0m\n",
      "\u001b[1m[\u001b[0m\u001b[34;49mnotice\u001b[0m\u001b[1;39;49m]\u001b[0m\u001b[39;49m To update, run: \u001b[0m\u001b[32;49mpip install --upgrade pip\u001b[0m\n"
     ]
    }
   ],
   "source": [
    "!pip install gradio==3.38.0"
   ]
  },
  {
   "cell_type": "code",
   "execution_count": 12,
   "id": "40e2f145-21b6-4a5f-a2e9-e028e39f1538",
   "metadata": {
    "execution": {
     "iopub.execute_input": "2024-03-16T04:20:16.701192Z",
     "iopub.status.busy": "2024-03-16T04:20:16.700858Z",
     "iopub.status.idle": "2024-03-16T04:21:39.353552Z",
     "shell.execute_reply": "2024-03-16T04:21:39.352955Z",
     "shell.execute_reply.started": "2024-03-16T04:20:16.701173Z"
    },
    "tags": []
   },
   "outputs": [
    {
     "name": "stdout",
     "output_type": "stream",
     "text": [
      "Running on local URL:  http://0.0.0.0:9874\n",
      "\n",
      "Could not create share link. Missing file: /opt/conda/lib/python3.10/site-packages/gradio/frpc_linux_amd64_v0.2. \n",
      "\n",
      "Please check your internet connection. This can happen if your antivirus software blocks the download of this file. You can install manually by following these steps: \n",
      "\n",
      "1. Download this file: https://cdn-media.huggingface.co/frpc-gradio-0.2/frpc_linux_amd64\n",
      "2. Rename the downloaded file to: frpc_linux_amd64_v0.2\n",
      "3. Move the file to this location: /opt/conda/lib/python3.10/site-packages/gradio\n",
      "^C\n",
      "Keyboard interruption in main thread... closing server.\n"
     ]
    }
   ],
   "source": [
    "!python  webui.py"
   ]
  }
 ],
 "metadata": {
  "kernelspec": {
   "display_name": "Python 3 (ipykernel)",
   "language": "python",
   "name": "python3"
  },
  "language_info": {
   "codemirror_mode": {
    "name": "ipython",
    "version": 3
   },
   "file_extension": ".py",
   "mimetype": "text/x-python",
   "name": "python",
   "nbconvert_exporter": "python",
   "pygments_lexer": "ipython3",
   "version": "3.10.13"
  }
 },
 "nbformat": 4,
 "nbformat_minor": 5
}
